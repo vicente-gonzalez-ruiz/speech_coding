{
 "cells": [
  {
   "cell_type": "markdown",
   "metadata": {},
   "source": [
    "# Speech Coding"
   ]
  },
  {
   "cell_type": "markdown",
   "metadata": {},
   "source": [
    "http://www.atc-labs.com/acepages/crcchapter.pdf\n",
    "\n"
   ]
  },
  {
   "cell_type": "markdown",
   "metadata": {},
   "source": [
    "## Analysis-by-synthesis coding (CELP)"
   ]
  },
  {
   "cell_type": "markdown",
   "metadata": {},
   "source": [
    "\\section{CELP (Code-Excited Linear Prediction)~\\cite{CELP}}\n",
    "%{{{\n",
    "\n",
    "\\begin{itemize}\n",
    "\\item Proposed by M.R. Schroeder and B.S. Atal in 1985.\n",
    "\\item Specifically designed for the human voice.\n",
    "\\item Used mainly in VoIP applications, Speex and MPEG-4.\n",
    "\\item Very low bit-rates (less than 4 Kbps).\n",
    "\\item Encoding algorithm:\n",
    "  \\begin{enumerate}\n",
    "  \\item Split the PCM signal in small PCM chunks.\n",
    "  \\item For each chunk:\n",
    "    \\begin{enumerate}\n",
    "    \\item Search a set of code-words (and their corresponding gains)\n",
    "      that minimize the distortion in a decoder that use the code-word\n",
    "      indexes (and the gains) to synthesize a voice signal by beans of a\n",
    "      model of the human vocal tract.\n",
    "    \\end{enumerate}\n",
    "    \\item Encode the residuals using RLE and Golomb Coding.\n",
    "\\end{enumerate}\n",
    "\\end{itemize}"
   ]
  }
 ],
 "metadata": {
  "kernelspec": {
   "display_name": "Python 3",
   "language": "python",
   "name": "python3"
  },
  "language_info": {
   "codemirror_mode": {
    "name": "ipython",
    "version": 3
   },
   "file_extension": ".py",
   "mimetype": "text/x-python",
   "name": "python",
   "nbconvert_exporter": "python",
   "pygments_lexer": "ipython3",
   "version": "3.6.3"
  }
 },
 "nbformat": 4,
 "nbformat_minor": 1
}
